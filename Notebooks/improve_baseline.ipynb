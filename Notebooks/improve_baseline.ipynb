{
 "cells": [
  {
   "cell_type": "code",
   "execution_count": 48,
   "metadata": {},
   "outputs": [],
   "source": [
    "import sys\n",
    "sys.path.append('../../NLP_analysis/')"
   ]
  },
  {
   "cell_type": "code",
   "execution_count": 49,
   "metadata": {},
   "outputs": [],
   "source": [
    "import pandas as pd\n",
    "import numpy as np\n",
    "import matplotlib.pyplot as plt\n",
    "import seaborn as sns\n",
    "\n",
    "\n",
    "from Scripts.textclassfier import TextClassifier\n",
    "from sklearn.model_selection import train_test_split\n",
    "from sklearn.feature_extraction.text import TfidfVectorizer, CountVectorizer\n",
    "from sklearn.metrics import accuracy_score, make_scorer, f1_score\n",
    "from sklearn.model_selection import learning_curve\n",
    "\n",
    "from sklearn.model_selection import GridSearchCV\n",
    "from sklearn.pipeline import Pipeline\n",
    "from sklearn.linear_model import LogisticRegression\n",
    "from sklearn.tree import DecisionTreeClassifier\n",
    "from sklearn.ensemble import RandomForestClassifier\n",
    "from sklearn.neighbors import KNeighborsClassifier\n",
    "from sklearn.naive_bayes import MultinomialNB\n",
    "from sklearn.linear_model import RidgeClassifier\n",
    "import xgboost as xgb\n",
    "from sklearn.utils import class_weight"
   ]
  },
  {
   "cell_type": "code",
   "execution_count": 50,
   "metadata": {},
   "outputs": [],
   "source": [
    "df = pd.read_csv('../data/complete_cleaned_spellings_Restaurant_reviews.csv', index_col=0)"
   ]
  },
  {
   "cell_type": "markdown",
   "metadata": {},
   "source": [
    "# Improve model\n",
    "First, we want to try different models to get an overview of their results, and then understand which models we can use. We will cycle through 5 models with 2 different vectorizers and print classifications to find the model that works best"
   ]
  },
  {
   "cell_type": "markdown",
   "metadata": {},
   "source": [
    "## CountVectorizer"
   ]
  },
  {
   "cell_type": "code",
   "execution_count": 51,
   "metadata": {},
   "outputs": [
    {
     "name": "stdout",
     "output_type": "stream",
     "text": [
      "Evaluating model: Logistic Regression\n",
      "------------------------------\n"
     ]
    },
    {
     "name": "stderr",
     "output_type": "stream",
     "text": [
      "/Users/kzd/opt/anaconda3/lib/python3.9/site-packages/sklearn/linear_model/_logistic.py:458: ConvergenceWarning: lbfgs failed to converge (status=1):\n",
      "STOP: TOTAL NO. of ITERATIONS REACHED LIMIT.\n",
      "\n",
      "Increase the number of iterations (max_iter) or scale the data as shown in:\n",
      "    https://scikit-learn.org/stable/modules/preprocessing.html\n",
      "Please also refer to the documentation for alternative solver options:\n",
      "    https://scikit-learn.org/stable/modules/linear_model.html#logistic-regression\n",
      "  n_iter_i = _check_optimize_result(\n"
     ]
    },
    {
     "name": "stdout",
     "output_type": "stream",
     "text": [
      "Accuracy: 0.5980592441266599\n",
      "              precision    recall  f1-score   support\n",
      "\n",
      "           1       0.72      0.79      0.75       356\n",
      "           2       0.30      0.17      0.22       141\n",
      "           3       0.38      0.29      0.33       238\n",
      "           4       0.47      0.42      0.44       465\n",
      "           5       0.68      0.80      0.73       758\n",
      "\n",
      "    accuracy                           0.60      1958\n",
      "   macro avg       0.51      0.49      0.49      1958\n",
      "weighted avg       0.57      0.60      0.58      1958\n",
      "\n",
      "\n",
      "\n",
      "\n",
      "Evaluating model: Decision Tree\n",
      "------------------------------\n",
      "Accuracy: 0.5025536261491318\n",
      "              precision    recall  f1-score   support\n",
      "\n",
      "           1       0.61      0.62      0.62       356\n",
      "           2       0.21      0.17      0.19       141\n",
      "           3       0.25      0.22      0.24       238\n",
      "           4       0.38      0.36      0.37       465\n",
      "           5       0.62      0.68      0.65       758\n",
      "\n",
      "    accuracy                           0.50      1958\n",
      "   macro avg       0.42      0.41      0.41      1958\n",
      "weighted avg       0.49      0.50      0.49      1958\n",
      "\n",
      "\n",
      "\n",
      "\n",
      "Evaluating model: Random Forest\n",
      "------------------------------\n",
      "Accuracy: 0.5965270684371808\n",
      "              precision    recall  f1-score   support\n",
      "\n",
      "           1       0.67      0.83      0.74       356\n",
      "           2       0.23      0.04      0.06       141\n",
      "           3       0.45      0.10      0.16       238\n",
      "           4       0.46      0.40      0.43       465\n",
      "           5       0.64      0.87      0.73       758\n",
      "\n",
      "    accuracy                           0.60      1958\n",
      "   macro avg       0.49      0.45      0.42      1958\n",
      "weighted avg       0.55      0.60      0.54      1958\n",
      "\n",
      "\n",
      "\n",
      "\n",
      "Evaluating model: K-Nearest Neighbors\n",
      "------------------------------\n",
      "Accuracy: 0.491317671092952\n",
      "              precision    recall  f1-score   support\n",
      "\n",
      "           1       0.52      0.62      0.57       356\n",
      "           2       0.18      0.12      0.15       141\n",
      "           3       0.28      0.12      0.17       238\n",
      "           4       0.34      0.14      0.20       465\n",
      "           5       0.55      0.83      0.66       758\n",
      "\n",
      "    accuracy                           0.49      1958\n",
      "   macro avg       0.38      0.37      0.35      1958\n",
      "weighted avg       0.44      0.49      0.44      1958\n",
      "\n",
      "\n",
      "\n",
      "\n",
      "Evaluating model: Naive Bayes\n",
      "------------------------------\n",
      "Accuracy: 0.6077630234933605\n",
      "              precision    recall  f1-score   support\n",
      "\n",
      "           1       0.70      0.82      0.76       356\n",
      "           2       0.31      0.09      0.14       141\n",
      "           3       0.41      0.28      0.33       238\n",
      "           4       0.46      0.50      0.48       465\n",
      "           5       0.71      0.77      0.74       758\n",
      "\n",
      "    accuracy                           0.61      1958\n",
      "   macro avg       0.52      0.49      0.49      1958\n",
      "weighted avg       0.58      0.61      0.59      1958\n",
      "\n",
      "\n",
      "\n",
      "\n",
      "Evaluating model: Linear_model\n",
      "------------------------------\n",
      "Accuracy: 0.54902962206333\n",
      "              precision    recall  f1-score   support\n",
      "\n",
      "           1       0.67      0.65      0.66       356\n",
      "           2       0.23      0.10      0.14       141\n",
      "           3       0.32      0.21      0.25       238\n",
      "           4       0.43      0.36      0.39       465\n",
      "           5       0.61      0.81      0.70       758\n",
      "\n",
      "    accuracy                           0.55      1958\n",
      "   macro avg       0.45      0.42      0.43      1958\n",
      "weighted avg       0.51      0.55      0.52      1958\n",
      "\n",
      "\n",
      "\n",
      "\n"
     ]
    }
   ],
   "source": [
    "X = df['cleaned_text']\n",
    "y = df['Rating']\n",
    "X_train, X_test, y_train, y_test = train_test_split(X, y, test_size=0.2, random_state=42)\n",
    "\n",
    "# Liste des modèles à évaluer\n",
    "models = {\n",
    "    \"Logistic Regression\": LogisticRegression(),\n",
    "    \"Decision Tree\": DecisionTreeClassifier(),\n",
    "    \"Random Forest\": RandomForestClassifier(),\n",
    "    \"K-Nearest Neighbors\": KNeighborsClassifier(),\n",
    "    \"Naive Bayes\": MultinomialNB(),\n",
    "    \"Linear_model\": RidgeClassifier()\n",
    "}\n",
    "\n",
    "\n",
    "for name, model in models.items():\n",
    "    print(f\"Evaluating model: {name}\\n\" + \"-\" * 30)\n",
    "    \n",
    "    classifier = TextClassifier(model=model, vectorizer= CountVectorizer(max_features=5000, stop_words='english'))\n",
    "    classifier.train(X_train, y_train)\n",
    "    classifier.evaluate(X_test, y_test)\n",
    "    \n",
    "    print(\"\\n\\n\")"
   ]
  },
  {
   "cell_type": "markdown",
   "metadata": {},
   "source": [
    "### Observation\n",
    "According to the results. We can clearly say that in CountVectorizer, the precision of naive Bayes is the best result, but it is obviously underfitted, he only classifiers everything in the class with the largest amount of data, as can be seen from the second class recall of only 0.09. The accuracy of logistic regression is similar to that of naive Bayes, but his second class of recall class is better. However, the actual improvement is still too small, and I will look at TF-IDF for all models next"
   ]
  },
  {
   "cell_type": "markdown",
   "metadata": {},
   "source": [
    "## TF-IDF"
   ]
  },
  {
   "cell_type": "code",
   "execution_count": 52,
   "metadata": {},
   "outputs": [
    {
     "name": "stdout",
     "output_type": "stream",
     "text": [
      "Evaluating model: Logistic Regression\n",
      "------------------------------\n"
     ]
    },
    {
     "name": "stderr",
     "output_type": "stream",
     "text": [
      "/Users/kzd/opt/anaconda3/lib/python3.9/site-packages/sklearn/linear_model/_logistic.py:458: ConvergenceWarning: lbfgs failed to converge (status=1):\n",
      "STOP: TOTAL NO. of ITERATIONS REACHED LIMIT.\n",
      "\n",
      "Increase the number of iterations (max_iter) or scale the data as shown in:\n",
      "    https://scikit-learn.org/stable/modules/preprocessing.html\n",
      "Please also refer to the documentation for alternative solver options:\n",
      "    https://scikit-learn.org/stable/modules/linear_model.html#logistic-regression\n",
      "  n_iter_i = _check_optimize_result(\n"
     ]
    },
    {
     "name": "stdout",
     "output_type": "stream",
     "text": [
      "Accuracy: 0.6144024514811032\n",
      "              precision    recall  f1-score   support\n",
      "\n",
      "           1       0.71      0.85      0.77       356\n",
      "           2       0.40      0.03      0.05       141\n",
      "           3       0.42      0.23      0.29       238\n",
      "           4       0.46      0.49      0.47       465\n",
      "           5       0.69      0.81      0.75       758\n",
      "\n",
      "    accuracy                           0.61      1958\n",
      "   macro avg       0.53      0.48      0.47      1958\n",
      "weighted avg       0.58      0.61      0.58      1958\n",
      "\n",
      "\n",
      "\n",
      "\n",
      "Evaluating model: Decision Tree\n",
      "------------------------------\n",
      "Accuracy: 0.5025536261491318\n",
      "              precision    recall  f1-score   support\n",
      "\n",
      "           1       0.63      0.66      0.65       356\n",
      "           2       0.19      0.12      0.15       141\n",
      "           3       0.20      0.18      0.19       238\n",
      "           4       0.37      0.34      0.35       465\n",
      "           5       0.62      0.70      0.66       758\n",
      "\n",
      "    accuracy                           0.50      1958\n",
      "   macro avg       0.40      0.40      0.40      1958\n",
      "weighted avg       0.48      0.50      0.49      1958\n",
      "\n",
      "\n",
      "\n",
      "\n",
      "Evaluating model: Random Forest\n",
      "------------------------------\n",
      "Accuracy: 0.6046986721144024\n",
      "              precision    recall  f1-score   support\n",
      "\n",
      "           1       0.67      0.83      0.74       356\n",
      "           2       0.17      0.01      0.01       141\n",
      "           3       0.44      0.12      0.19       238\n",
      "           4       0.47      0.43      0.45       465\n",
      "           5       0.65      0.87      0.74       758\n",
      "\n",
      "    accuracy                           0.60      1958\n",
      "   macro avg       0.48      0.45      0.43      1958\n",
      "weighted avg       0.55      0.60      0.55      1958\n",
      "\n",
      "\n",
      "\n",
      "\n",
      "Evaluating model: K-Nearest Neighbors\n",
      "------------------------------\n",
      "Accuracy: 0.4111338100102145\n",
      "              precision    recall  f1-score   support\n",
      "\n",
      "           1       0.71      0.13      0.21       356\n",
      "           2       0.12      0.01      0.03       141\n",
      "           3       0.35      0.03      0.05       238\n",
      "           4       0.36      0.01      0.02       465\n",
      "           5       0.40      0.99      0.57       758\n",
      "\n",
      "    accuracy                           0.41      1958\n",
      "   macro avg       0.39      0.23      0.18      1958\n",
      "weighted avg       0.42      0.41      0.27      1958\n",
      "\n",
      "\n",
      "\n",
      "\n",
      "Evaluating model: Naive Bayes\n",
      "------------------------------\n",
      "Accuracy: 0.5781409601634321\n",
      "              precision    recall  f1-score   support\n",
      "\n",
      "           1       0.76      0.74      0.75       356\n",
      "           2       0.00      0.00      0.00       141\n",
      "           3       1.00      0.02      0.04       238\n",
      "           4       0.38      0.42      0.40       465\n",
      "           5       0.61      0.88      0.72       758\n",
      "\n",
      "    accuracy                           0.58      1958\n",
      "   macro avg       0.55      0.41      0.38      1958\n",
      "weighted avg       0.59      0.58      0.52      1958\n",
      "\n",
      "\n",
      "\n",
      "\n",
      "Evaluating model: Linear_model\n",
      "------------------------------\n",
      "Accuracy: 0.5949948927477018\n",
      "              precision    recall  f1-score   support\n",
      "\n",
      "           1       0.68      0.79      0.74       356\n",
      "           2       0.22      0.04      0.07       141\n",
      "           3       0.40      0.23      0.29       238\n",
      "           4       0.43      0.43      0.43       465\n",
      "           5       0.68      0.82      0.74       758\n",
      "\n",
      "    accuracy                           0.59      1958\n",
      "   macro avg       0.48      0.46      0.45      1958\n",
      "weighted avg       0.55      0.59      0.56      1958\n",
      "\n",
      "\n",
      "\n",
      "\n"
     ]
    },
    {
     "name": "stderr",
     "output_type": "stream",
     "text": [
      "/Users/kzd/opt/anaconda3/lib/python3.9/site-packages/sklearn/metrics/_classification.py:1344: UndefinedMetricWarning: Precision and F-score are ill-defined and being set to 0.0 in labels with no predicted samples. Use `zero_division` parameter to control this behavior.\n",
      "  _warn_prf(average, modifier, msg_start, len(result))\n",
      "/Users/kzd/opt/anaconda3/lib/python3.9/site-packages/sklearn/metrics/_classification.py:1344: UndefinedMetricWarning: Precision and F-score are ill-defined and being set to 0.0 in labels with no predicted samples. Use `zero_division` parameter to control this behavior.\n",
      "  _warn_prf(average, modifier, msg_start, len(result))\n",
      "/Users/kzd/opt/anaconda3/lib/python3.9/site-packages/sklearn/metrics/_classification.py:1344: UndefinedMetricWarning: Precision and F-score are ill-defined and being set to 0.0 in labels with no predicted samples. Use `zero_division` parameter to control this behavior.\n",
      "  _warn_prf(average, modifier, msg_start, len(result))\n"
     ]
    }
   ],
   "source": [
    "X = df['cleaned_text']\n",
    "y = df['Rating']\n",
    "X_train, X_test, y_train, y_test = train_test_split(X, y, test_size=0.2, random_state=42)\n",
    "\n",
    "# Liste des modèles à évaluer\n",
    "models = {\n",
    "    \"Logistic Regression\": LogisticRegression(),\n",
    "    \"Decision Tree\": DecisionTreeClassifier(),\n",
    "    \"Random Forest\": RandomForestClassifier(),\n",
    "    \"K-Nearest Neighbors\": KNeighborsClassifier(),\n",
    "    \"Naive Bayes\": MultinomialNB(),\n",
    "    \"Linear_model\": RidgeClassifier()\n",
    "}\n",
    "\n",
    "\n",
    "for name, model in models.items():\n",
    "    print(f\"Evaluating model: {name}\\n\" + \"-\" * 30)\n",
    "    \n",
    "    classifier = TextClassifier(model=model, vectorizer = TfidfVectorizer(max_features=5000, stop_words='english'))\n",
    "    classifier.train(X_train, y_train)\n",
    "    classifier.evaluate(X_test, y_test)\n",
    "    \n",
    "    print(\"\\n\\n\")"
   ]
  },
  {
   "cell_type": "markdown",
   "metadata": {},
   "source": [
    "### Observation\n",
    "According to the results. We can clearly say that in TF-IDF, the accuracy of logistic regression is the best result, and the accuracy of logistic regression is similar to that of Random Forest, but the second type of Random Forest is 0. This means that he completely ignores the second category"
   ]
  },
  {
   "cell_type": "markdown",
   "metadata": {},
   "source": [
    "Depending on the outcome of two different loops, we have two very close possibilities:\n",
    "\n",
    "- Naive Bayes and counting vectorizers\n",
    "- Logistic regression with TFIDF\n",
    "I'll focus on one of them"
   ]
  },
  {
   "cell_type": "markdown",
   "metadata": {},
   "source": [
    "During my data exploration, I noticed a clear imbalance in these categories. The fifth category dominates and represents the main portion of the data. My baseline model has a low precision and recall rate for Class 2, which means the model has a hard time detecting this class. This shows that my model is underfit. It cannot detect 5 categories, we will try to improve this issue. I think about class weights because we don't have a lot of data\n",
    "\n",
    "I'll choose to focus on logistic regression because it's easy to implement class weights, and we'll see if the results are better than the baseline"
   ]
  },
  {
   "cell_type": "markdown",
   "metadata": {},
   "source": [
    "## Class_weight"
   ]
  },
  {
   "cell_type": "code",
   "execution_count": 53,
   "metadata": {},
   "outputs": [
    {
     "name": "stdout",
     "output_type": "stream",
     "text": [
      "Accuracy: 0.5771195097037793\n",
      "              precision    recall  f1-score   support\n",
      "\n",
      "           1       0.69      0.71      0.70       356\n",
      "           2       0.25      0.33      0.28       141\n",
      "           3       0.32      0.36      0.34       238\n",
      "           4       0.48      0.47      0.47       465\n",
      "           5       0.78      0.70      0.73       758\n",
      "\n",
      "    accuracy                           0.58      1958\n",
      "   macro avg       0.50      0.51      0.51      1958\n",
      "weighted avg       0.60      0.58      0.59      1958\n",
      "\n"
     ]
    }
   ],
   "source": [
    "X = df['cleaned_text']\n",
    "y = df['Rating']\n",
    "X_train, X_test, y_train, y_test = train_test_split(X, y, test_size=0.2, random_state=42)\n",
    "\n",
    "\n",
    "classifier = TextClassifier(model=LogisticRegression(max_iter=1000, class_weight='balanced'), vectorizer=TfidfVectorizer(max_features=5000, stop_words='english'))\n",
    "classifier.train(X_train, y_train)\n",
    "classifier.evaluate(X_test, y_test)"
   ]
  },
  {
   "cell_type": "markdown",
   "metadata": {},
   "source": [
    "### Observation\n",
    "\n",
    "After our first experiment, we can see that using class weights has a good effect on class 2 recalls. Even if the accuracy is reduced, it is still a good choice"
   ]
  },
  {
   "cell_type": "markdown",
   "metadata": {},
   "source": [
    "## Param_grid"
   ]
  },
  {
   "cell_type": "code",
   "execution_count": 54,
   "metadata": {},
   "outputs": [
    {
     "name": "stderr",
     "output_type": "stream",
     "text": [
      "/Users/kzd/opt/anaconda3/lib/python3.9/site-packages/sklearn/model_selection/_validation.py:378: FitFailedWarning: \n",
      "30 fits failed out of a total of 60.\n",
      "The score on these train-test partitions for these parameters will be set to nan.\n",
      "If these failures are not expected, you can try to debug them by setting error_score='raise'.\n",
      "\n",
      "Below are more details about the failures:\n",
      "--------------------------------------------------------------------------------\n",
      "30 fits failed with the following error:\n",
      "Traceback (most recent call last):\n",
      "  File \"/Users/kzd/opt/anaconda3/lib/python3.9/site-packages/sklearn/model_selection/_validation.py\", line 686, in _fit_and_score\n",
      "    estimator.fit(X_train, y_train, **fit_params)\n",
      "  File \"/Users/kzd/opt/anaconda3/lib/python3.9/site-packages/sklearn/linear_model/_logistic.py\", line 1162, in fit\n",
      "    solver = _check_solver(self.solver, self.penalty, self.dual)\n",
      "  File \"/Users/kzd/opt/anaconda3/lib/python3.9/site-packages/sklearn/linear_model/_logistic.py\", line 54, in _check_solver\n",
      "    raise ValueError(\n",
      "ValueError: Solver lbfgs supports only 'l2' or 'none' penalties, got l1 penalty.\n",
      "\n",
      "  warnings.warn(some_fits_failed_message, FitFailedWarning)\n",
      "/Users/kzd/opt/anaconda3/lib/python3.9/site-packages/sklearn/model_selection/_search.py:952: UserWarning: One or more of the test scores are non-finite: [       nan 0.54579128        nan 0.55741422        nan 0.58487598\n",
      "        nan 0.59088025        nan 0.57772318        nan 0.54553503]\n",
      "  warnings.warn(\n"
     ]
    },
    {
     "name": "stdout",
     "output_type": "stream",
     "text": [
      "Best Parameters:  {'C': 1, 'penalty': 'l2'}\n",
      "Best Accuracy:  0.5908802467775696\n",
      "Accuracy: 0.5771195097037793\n",
      "              precision    recall  f1-score   support\n",
      "\n",
      "           1       0.69      0.71      0.70       356\n",
      "           2       0.25      0.33      0.28       141\n",
      "           3       0.32      0.36      0.34       238\n",
      "           4       0.48      0.47      0.47       465\n",
      "           5       0.78      0.70      0.73       758\n",
      "\n",
      "    accuracy                           0.58      1958\n",
      "   macro avg       0.50      0.51      0.51      1958\n",
      "weighted avg       0.60      0.58      0.59      1958\n",
      "\n"
     ]
    }
   ],
   "source": [
    "text_classifier = TextClassifier(LogisticRegression(max_iter=1000, class_weight='balanced'), vectorizer=TfidfVectorizer(max_features=5000, stop_words='english'))\n",
    "\n",
    "text_classifier.train(X_train, y_train)\n",
    "\n",
    "param_grid = {\n",
    "    'C': [0.001, 0.01, 0.1, 1, 10, 100],  # 正则化强度的候选值\n",
    "    'penalty': ['l1', 'l2'],  # 正则化类型\n",
    "}\n",
    "\n",
    "# 创建GridSearchCV对象\n",
    "grid_search = GridSearchCV(text_classifier.model, param_grid, cv=5, scoring='accuracy')\n",
    "\n",
    "# 训练GridSearchCV对象\n",
    "grid_search.fit(text_classifier.X_train_tf, y_train)\n",
    "\n",
    "# 打印最佳参数和性能\n",
    "print(\"Best Parameters: \", grid_search.best_params_)\n",
    "print(\"Best Accuracy: \", grid_search.best_score_)\n",
    "\n",
    "# 使用最佳模型评估测试数据\n",
    "text_classifier.model = grid_search.best_estimator_\n",
    "text_classifier.evaluate(X_test, y_test)\n"
   ]
  },
  {
   "cell_type": "markdown",
   "metadata": {},
   "source": [
    "### Observation\n",
    "From the results, it can be seen that the best result is the default result before, and there is no change in the result, so I will draw a learning curve to observe"
   ]
  },
  {
   "cell_type": "markdown",
   "metadata": {},
   "source": [
    "## Learning Curve"
   ]
  },
  {
   "cell_type": "code",
   "execution_count": 56,
   "metadata": {},
   "outputs": [
    {
     "data": {
      "image/png": "[encoded data removed]",
      "text/plain": [
       "<Figure size 1000x600 with 1 Axes>"
      ]
     },
     "metadata": {},
     "output_type": "display_data"
    }
   ],
   "source": [
    "# 定义一个函数来绘制学习曲线\n",
    "def plot_learning_curve(estimator, title, X, y, ylim=None, cv=None, n_jobs=None, train_sizes=np.linspace(0.1, 1.0, 10)):\n",
    "    plt.figure(figsize=(10, 6))\n",
    "    plt.title(title)\n",
    "    if ylim is not None:\n",
    "        plt.ylim(*ylim)\n",
    "    plt.xlabel(\"Training examples\")\n",
    "    plt.ylabel(\"Score\")\n",
    "    train_sizes, train_scores, test_scores = learning_curve(\n",
    "        estimator, X, y, cv=cv, n_jobs=n_jobs, train_sizes=train_sizes, scoring='accuracy')\n",
    "    train_scores_mean = np.mean(train_scores, axis=1)\n",
    "    train_scores_std = np.std(train_scores, axis=1)\n",
    "    test_scores_mean = np.mean(test_scores, axis=1)\n",
    "    test_scores_std = np.std(test_scores, axis=1)\n",
    "    plt.grid()\n",
    "\n",
    "    plt.fill_between(train_sizes, train_scores_mean - train_scores_std,\n",
    "                     train_scores_mean + train_scores_std, alpha=0.1,\n",
    "                     color=\"r\")\n",
    "    plt.fill_between(train_sizes, test_scores_mean - test_scores_std,\n",
    "                     test_scores_mean + test_scores_std, alpha=0.1, color=\"g\")\n",
    "    plt.plot(train_sizes, train_scores_mean, 'o-', color=\"r\",\n",
    "             label=\"Training score\")\n",
    "    plt.plot(train_sizes, test_scores_mean, 'o-', color=\"g\",\n",
    "             label=\"Cross-validation score\")\n",
    "\n",
    "    plt.legend(loc=\"best\")\n",
    "    return plt\n",
    "\n",
    "# 绘制学习曲线\n",
    "plot_learning_curve(text_classifier.model, \"Learning Curve\", text_classifier.X_train_tf, y_train, cv=5)\n",
    "plt.show()"
   ]
  },
  {
   "cell_type": "markdown",
   "metadata": {},
   "source": [
    "### Observation\n",
    "The difference between these two curves is important. The results show that our model is obviously overfitting, and the amount of data reduces this problem. However, the improvement of the validation curve is very slow, and we can assume that the model can be improved by adding a lot of data, especially in class 2"
   ]
  }
 ],
 "metadata": {
  "kernelspec": {
   "display_name": "base",
   "language": "python",
   "name": "python3"
  },
  "language_info": {
   "codemirror_mode": {
    "name": "ipython",
    "version": 3
   },
   "file_extension": ".py",
   "mimetype": "text/x-python",
   "name": "python",
   "nbconvert_exporter": "python",
   "pygments_lexer": "ipython3",
   "version": "3.9.13"
  },
  "orig_nbformat": 4
 },
 "nbformat": 4,
 "nbformat_minor": 2
}
